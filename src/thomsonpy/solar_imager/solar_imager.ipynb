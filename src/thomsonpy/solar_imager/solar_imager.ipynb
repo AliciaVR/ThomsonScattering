{
 "cells": [
  {
   "cell_type": "code",
   "execution_count": 1,
   "id": "40227896-dc83-420f-a94d-e64798871a00",
   "metadata": {},
   "outputs": [
    {
     "ename": "ModuleNotFoundError",
     "evalue": "No module named 'thomsonpy.thomson_scattering.thomson_scattering_tools.ThomsonGeometry'; 'thomsonpy.thomson_scattering.thomson_scattering_tools' is not a package",
     "output_type": "error",
     "traceback": [
      "\u001b[0;31m---------------------------------------------------------------------------\u001b[0m",
      "\u001b[0;31mModuleNotFoundError\u001b[0m                       Traceback (most recent call last)",
      "\u001b[0;32m/tmp/ipykernel_9313/858685110.py\u001b[0m in \u001b[0;36m<module>\u001b[0;34m\u001b[0m\n\u001b[1;32m      1\u001b[0m \u001b[0;32mimport\u001b[0m \u001b[0mthomsonpy\u001b[0m\u001b[0;34m.\u001b[0m\u001b[0mthomson_scattering\u001b[0m\u001b[0;34m.\u001b[0m\u001b[0mthomson_scattering_tools\u001b[0m \u001b[0;32mas\u001b[0m \u001b[0mthtools\u001b[0m\u001b[0;34m\u001b[0m\u001b[0;34m\u001b[0m\u001b[0m\n\u001b[0;32m----> 2\u001b[0;31m \u001b[0;32mimport\u001b[0m \u001b[0mthomsonpy\u001b[0m\u001b[0;34m.\u001b[0m\u001b[0mthomson_scattering\u001b[0m\u001b[0;34m.\u001b[0m\u001b[0mthomson_scattering_tools\u001b[0m\u001b[0;34m.\u001b[0m\u001b[0mThomsonGeometry\u001b[0m \u001b[0;32mas\u001b[0m \u001b[0mTG\u001b[0m\u001b[0;34m\u001b[0m\u001b[0;34m\u001b[0m\u001b[0m\n\u001b[0m\u001b[1;32m      3\u001b[0m \u001b[0;32mimport\u001b[0m \u001b[0mthomsonpy\u001b[0m\u001b[0;34m.\u001b[0m\u001b[0mconfig\u001b[0m\u001b[0;34m.\u001b[0m\u001b[0mthomson_scattering_params\u001b[0m \u001b[0;32mas\u001b[0m \u001b[0mtsp\u001b[0m\u001b[0;34m\u001b[0m\u001b[0;34m\u001b[0m\u001b[0m\n\u001b[1;32m      4\u001b[0m \u001b[0;32mimport\u001b[0m \u001b[0mthomsonpy\u001b[0m\u001b[0;34m.\u001b[0m\u001b[0mconstants\u001b[0m\u001b[0;34m.\u001b[0m\u001b[0munits\u001b[0m \u001b[0;32mas\u001b[0m \u001b[0munits\u001b[0m\u001b[0;34m\u001b[0m\u001b[0;34m\u001b[0m\u001b[0m\n\u001b[1;32m      5\u001b[0m \u001b[0;32mimport\u001b[0m \u001b[0mthomsonpy\u001b[0m\u001b[0;34m.\u001b[0m\u001b[0mdata_management\u001b[0m\u001b[0;34m.\u001b[0m\u001b[0mformatter\u001b[0m \u001b[0;32mas\u001b[0m \u001b[0mformatter\u001b[0m\u001b[0;34m\u001b[0m\u001b[0;34m\u001b[0m\u001b[0m\n",
      "\u001b[0;31mModuleNotFoundError\u001b[0m: No module named 'thomsonpy.thomson_scattering.thomson_scattering_tools.ThomsonGeometry'; 'thomsonpy.thomson_scattering.thomson_scattering_tools' is not a package"
     ]
    }
   ],
   "source": [
    "import thomsonpy.thomson_scattering.thomson_scattering_tools as thtools\n",
    "import thomsonpy.config.thomson_scattering_params as tsp\n",
    "import thomsonpy.config.solar_imager_params as sip\n",
    "import thomsonpy.constants.units as units\n",
    "import thomsonpy.data_management.formatter as formatter\n",
    "import matplotlib.pyplot as plt\n",
    "import numpy as np"
   ]
  },
  {
   "cell_type": "code",
   "execution_count": null,
   "id": "cbe37735-c9b9-4b40-9fa0-1dc91262ebe0",
   "metadata": {},
   "outputs": [],
   "source": [
    "thgeom = thtools.ThomsonGeometry(sip.OBSERVER, sip.SUN_CENTER, target, sip.SOLAR_RADIUS)"
   ]
  },
  {
   "cell_type": "code",
   "execution_count": null,
   "id": "634f1b2f-2c08-44ba-afc5-bfca33c60cb0",
   "metadata": {},
   "outputs": [],
   "source": [
    "def get_los(target):\n",
    "    \"\"\"\n",
    "    Description\n",
    "    -------------\n",
    "    Gets the basic properties of the line of sight (los) according to the point\n",
    "    set as target.\n",
    "\n",
    "    Parameters\n",
    "    -------------\n",
    "    target: (float, float, float)\n",
    "        Coordinates of the target in the Observer Reference System.\n",
    "\n",
    "    Returns\n",
    "    -------------\n",
    "    los: (float, float, float, float)\n",
    "        Properties of the line of sight of the target:\n",
    "          - los[0] is epsilon in radians.\n",
    "          - los[1] is the integration lower limit.\n",
    "          - los[2] is the integration upper limit.\n",
    "          - los[3] is the size of each integration step.\n",
    "    \"\"\"\n",
    "    # Target of LOS in System O coordinates.\n",
    "    Xo, Yo, Zo = target[0], target[1], target[2] # target in System O\n",
    "\n",
    "    z = np.linalg.norm((Xo, Yo, Zo))\n",
    "    epsilon = np.arccos(X / z)\n",
    "\n",
    "    ini_z = tsp.INI_Z\n",
    "    fin_z = tsp.FIN_Z\n",
    "    incr_z = tsp.INCR_Z\n",
    "\n",
    "    los  = (epsilon, ini_z, fin_z, incr_z)\n",
    "\n",
    "    return los"
   ]
  },
  {
   "cell_type": "code",
   "execution_count": null,
   "id": "f81927ec-547a-43e5-93e9-5d66908a89a3",
   "metadata": {},
   "outputs": [],
   "source": [
    "\"\"\"\n",
    "Starts execution of solar corona modeling with Crammer model.\n",
    "\"\"\"\n",
    "print(\"Imaging between\", sip.IMAGE_MIN * units.METERS_TO_RSOL, \"RSol and\" , sip.IMAGE_MAX * units.METERS_TO_RSOL, \"RSol.\")\n",
    "print(\"Resolution = \", sip.IMAGE_RESOLUTION , \" km (\", sip.IMAGE_NUM_POINTS, \"x\", sip.IMAGE_NUM_POINTS, \").\")\n",
    "x_values = np.linspace(sip.MIN_COORD, sip.MAX_COORD, sip.IMAGE_NUM_POINTS)\n",
    "print(x_values)\n",
    "y_values = np.linspace(sip.MIN_COORD, sip.MAX_COORD, sip.IMAGE_NUM_POINTS)[::-1]\n",
    "print(y_values)\n",
    "model = np.zeros((N, N))\n",
    "print(model)\n",
    "\n",
    "print(\"Starting solar imaging with\""
   ]
  },
  {
   "cell_type": "code",
   "execution_count": null,
   "id": "202a5478-2b3c-4d57-9acf-2bd720f1413a",
   "metadata": {},
   "outputs": [],
   "source": [
    "\"\"\"\n",
    "Starts execution of solar corona modeling with Crammer model.\n",
    "\"\"\"\n",
    "N = 51\n",
    "\n",
    "x_values = np.linspace(MIN_X, MAX_X, N)\n",
    "print(x_values)\n",
    "y_values = np.linspace(MIN_Y, MAX_Y, N)[::-1]\n",
    "print(y_values)\n",
    "model = np.zeros((N, N))\n",
    "model_scatt_factor = np.zeros((N, N))\n",
    "#print(model)\n",
    "\n",
    "\n",
    "i = j = z = k = 0\n",
    "\n",
    "for y in y_values:\n",
    "    for x in x_values:\n",
    "        sun_coords = (x, y, z)\n",
    "        target = formatter.coords_system_change(sun_coords)\n",
    "        #print(i, j, \"::::::::::::::::\", sun_coords, \"--->\", target)\n",
    "\n",
    "        # Gets a line of sight for numeric integration.\n",
    "        los = get_los(target)\n",
    "\n",
    "        # Line of sight integration generating a value for the scattering factor model.\n",
    "        scattering_factor = thtools.Irec_z(X, los[0], los[1], los[2], los[3], U, r = 1)\n",
    "        model_scatt_factor[i][j] = scattering_factor\n",
    "\n",
    "        # Line of sight integration generating a value for the scattered light model.\n",
    "        scattered_light = thtools.get_scattered_light(tsp.WAVELENGTH, tsp.T_SOL, X, los[0], los[1], los[2], los[3], 1)\n",
    "        model[i][j] = scattered_light\n",
    "\n",
    "        j += 1\n",
    "        k += 1\n",
    "    j = 0\n",
    "    i += 1\n",
    "#print(model)"
   ]
  }
 ],
 "metadata": {
  "kernelspec": {
   "display_name": "Python 3 (ipykernel)",
   "language": "python",
   "name": "python3"
  },
  "language_info": {
   "codemirror_mode": {
    "name": "ipython",
    "version": 3
   },
   "file_extension": ".py",
   "mimetype": "text/x-python",
   "name": "python",
   "nbconvert_exporter": "python",
   "pygments_lexer": "ipython3",
   "version": "3.8.12"
  }
 },
 "nbformat": 4,
 "nbformat_minor": 5
}
