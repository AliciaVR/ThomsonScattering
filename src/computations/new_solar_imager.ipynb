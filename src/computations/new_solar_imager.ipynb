{
 "cells": [
  {
   "cell_type": "code",
   "execution_count": null,
   "id": "48f47e81-99c1-474f-a559-7d5271a34a7e",
   "metadata": {},
   "outputs": [],
   "source": [
    "import thomsonpy.data_management.fragmenter as frm\n",
    "import thomsonpy.data_management.octree.octree as octr"
   ]
  },
  {
   "cell_type": "code",
   "execution_count": null,
   "id": "53cce1db-75c8-4613-bfd0-601647a64be4",
   "metadata": {},
   "outputs": [],
   "source": [
    "# DATA FRAGMENTING\n",
    "print(\"\\nStarting data formatting and fragmenting...\")\n",
    "\n",
    "filepath = paths.PREDSCI_DATA_PATH + paths.PREDSCI_FILENAME\n",
    "ne_raw = frm.get_ne_raw(filepath)\n",
    "\n",
    "ini_time = time.perf_counter()\n",
    "frm.fragment(frm.selection, ne_raw)\n",
    "fin_time = time.perf_counter()\n",
    "\n",
    "print(\"Data formatting and fragmentation in\", fin_time - ini_time, \"seconds.\")\n",
    "\n",
    "formatter.dump(f\"{paths.OCTREE_DATA_PATH}{os.path.splitext(paths.PREDSCI_FILENAME)[0]}.data\", octree_data)\n",
    "print(f\"Stored data for octree at {paths.OCTREE_DATA_PATH}\")\n",
    "\n",
    "print(\"Octree will have\", len(octree_data), \"points\")"
   ]
  },
  {
   "cell_type": "code",
   "execution_count": null,
   "id": "340c7300-a06d-4888-b493-1148c13f6afd",
   "metadata": {},
   "outputs": [],
   "source": [
    "import os\n",
    "import pickle\n",
    "import numpy as np\n",
    "import open3d as o3d\n",
    "import time\n",
    "import thomsonpy.data_management.octree.octree as octr\n",
    "import thomsonpy.config.octree_params as op\n",
    "import thomsonpy.config.paths as paths\n",
    "import thomsonpy.data_management.formatter as formatter\n",
    "\n",
    "## OCTREE CREATION AND STORAGE\n",
    "min_v = [op.MIN_1, op.MIN_2, op.MIN_3, op.MIN_4]\n",
    "max_v = [op.MAX_1, op.MAX_2, op.MAX_3, op.MAX_4]\n",
    "\n",
    "i = 0\n",
    "# Loading data...\n",
    "octree_data = formatter.load(f\"{paths.OCTREE_DATA_PATH}{os.path.splitext(paths.PREDSCI_FILENAME)[0]}.data\")\n",
    "print(\"Loaded octree data:\", len(octree_data), \"points.\")\n",
    "octree = 0\n",
    "\n",
    "# Creating octree...\n",
    "print(\"Creating octree with params:\")\n",
    "print(\"MAX_LEVEL =\", op.MAX_LEVEL)\n",
    "print(\"MAX_DATA =\", op.MAX_DATA)\n",
    "print(\"MIN_V =\", min_v[i])\n",
    "print(\"MAX_V =\", max_v[i])\n",
    "ini_time = time.perf_counter()\n",
    "octree = octr.Octree(op.MAX_LEVEL, op.MAX_DATA, octree_data, min_v[i], max_v[i])\n",
    "fin_time = time.perf_counter()\n",
    "print(\"Octree \" + str(i + 1) + \" built in\", str((fin_time - ini_time) / 60), \"minutes.\")\n",
    "octr.Octree.save(octree, paths.OCTREES_PATH + \"octree_\" + str(i + 1) + \".oct\")\n",
    "print(\"Octree \" + str(i + 1) + \" created at\", paths.OCTREES_PATH)\n",
    "\n"
   ]
  }
 ],
 "metadata": {
  "kernelspec": {
   "display_name": "Python 3 (ipykernel)",
   "language": "python",
   "name": "python3"
  },
  "language_info": {
   "codemirror_mode": {
    "name": "ipython",
    "version": 3
   },
   "file_extension": ".py",
   "mimetype": "text/x-python",
   "name": "python",
   "nbconvert_exporter": "python",
   "pygments_lexer": "ipython3",
   "version": "3.8.12"
  }
 },
 "nbformat": 4,
 "nbformat_minor": 5
}
