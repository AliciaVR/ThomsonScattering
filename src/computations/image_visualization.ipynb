{
 "cells": [
  {
   "cell_type": "code",
   "execution_count": null,
   "id": "e6852f18-16c4-4c02-993c-a87284d6dcf5",
   "metadata": {},
   "outputs": [],
   "source": [
    "import numpy as np\n",
    "import matplotlib.pyplot as plt\n",
    "import thomsonpy.data_management.formatter as fmt\n",
    "import thomsonpy.config.paths as paths\n",
    "import thomsonpy.config.solar_imager_params as sip\n",
    "import thomsonpy.constants.units as units\n",
    "from mpl_toolkits.axes_grid1 import make_axes_locatable"
   ]
  },
  {
   "cell_type": "code",
   "execution_count": null,
   "id": "02abf5ef-8c55-40d8-bc1f-2090e70dd9aa",
   "metadata": {},
   "outputs": [],
   "source": [
    "prefix = f\"../../{paths.MODELS_PATH}\"\n",
    "model576 = fmt.load(f\"{prefix}576p_allsun_6x6rsol_32s.np\")\n",
    "model2321 = fmt.load(f\"{prefix}2321p_allsun_6x6rsol_32s.np\")"
   ]
  },
  {
   "cell_type": "code",
   "execution_count": null,
   "id": "7b9d6094-d3e6-45ec-a2e8-cbaa5ae2238b",
   "metadata": {},
   "outputs": [],
   "source": [
    "\"\"\"\n",
    "Visualization of the ThomsonScattering.\n",
    "\"\"\"\n",
    "\"\"\"\n",
    "cmap\n",
    "['rainbow', 'nipy_spectral', 'gist_ncar', 'viridis', 'twilight', 'twilight_shifted', 'bone']\n",
    "\"\"\"\n",
    "\n",
    "\"\"\"\n",
    "interpolation\n",
    "'none', 'antialiased', 'nearest', 'bilinear', \n",
    "'bicubic', 'spline16', 'spline36', 'hanning', \n",
    "'hamming', 'hermite', 'kaiser', 'quadric', \n",
    "'catrom', 'gaussian', 'bessel', 'mitchell', \n",
    "'sinc', 'lanczos', 'blackman'\n",
    "\n",
    "\"\"\"\n",
    "\n",
    "\"\"\"\n",
    "interpolation_stage{'data', 'rgba'}, default: 'data'\n",
    "\"\"\"\n",
    "steps = [32, 32]\n",
    "points = [576, 2321]\n",
    "models = [model576, model2321]\n",
    "\n",
    "for i in range(len(models)):\n",
    "    m = models[i]\n",
    "    p = points[i]\n",
    "    s = steps[i]\n",
    "    plt.figure(figsize=(15, 15))\n",
    "    plt.title(f\"Thomson Scattering with PredSci Ne model {p}p {s}steps\")\n",
    "    plt.ylabel(\"Y (RSol)\")\n",
    "    plt.xlabel(\"X (RSol)\")\n",
    "    model_log = np.log(m)\n",
    "    plt.imshow(model_log, \n",
    "               cmap = 'twilight_shifted', \n",
    "               interpolation = 'antialiased',\n",
    "               interpolation_stage = 'data',\n",
    "               extent=[sip.MIN_COORD * units.METERS_TO_RSOL, sip.MAX_COORD * units.METERS_TO_RSOL, sip.MIN_COORD * units.METERS_TO_RSOL, sip.MAX_COORD * units.METERS_TO_RSOL])\n",
    "    plt.colorbar()"
   ]
  },
  {
   "cell_type": "code",
   "execution_count": null,
   "id": "6c62c8f6-3692-4677-babb-d69b15c720b5",
   "metadata": {},
   "outputs": [],
   "source": [
    "\"\"\"\n",
    "Models comparison\n",
    "\"\"\"\n",
    "def imshow_model(model, description, ax, fig, **kwargs):\n",
    "    from mpl_toolkits.axes_grid1 import make_axes_locatable\n",
    "\n",
    "    divider = make_axes_locatable(ax)\n",
    "    cax = divider.append_axes('right', size='5%', pad=0.05)\n",
    "                                  \n",
    "    im = ax.imshow(model, **kwargs)\n",
    "\n",
    "    ax.set_xlabel(f\" X [RSol]\")\n",
    "    ax.set_ylabel(f\" Y [RSol]\") \n",
    "    ax.set_title(description)\n",
    "\n",
    "    #ax.legend()\n",
    "    fig.colorbar(im, cax = cax, orientation = 'vertical')"
   ]
  },
  {
   "cell_type": "code",
   "execution_count": null,
   "id": "4a552651-b7c1-4d73-abad-fc78935f3212",
   "metadata": {},
   "outputs": [],
   "source": [
    "import numpy as np\n",
    "import matplotlib.pyplot as plt\n",
    "import thomsonpy.data_management.formatter as fmt\n",
    "import thomsonpy.config.paths as paths\n",
    "from mpl_toolkits.axes_grid1 import make_axes_locatable\n",
    "prefix = f\"../../{paths.MODELS_PATH}\"\n",
    "m = model2321\n",
    "p = 2321\n",
    "s = 32\n",
    "my_dpi=96\n",
    "fig, ax = plt.subplots()\n",
    "divider = make_axes_locatable(ax)\n",
    "cax = divider.append_axes('right', size='7%', pad=0.6)\n",
    "ax.set_title(f\"Integrated Thomson scattered sunlight with PSI\\n Ne model with {s}steps ({p}x{p} pixels)\", fontsize = 'medium')\n",
    "ax.set_ylabel(\"Y (RSol)\", fontsize = 'medium')\n",
    "ax.set_xlabel(\"X (RSol)\", fontsize = 'medium')\n",
    "\n",
    "#fig.set_size_inches(p/my_dpi, p/my_dpi)\n",
    "fig.set_dpi(p)\n",
    "model_log = np.log(m)\n",
    "im = ax.imshow(model_log, \n",
    "           cmap = 'twilight_shifted', \n",
    "           interpolation = 'antialiased',\n",
    "           interpolation_stage = 'data',\n",
    "           extent=[-3, 3, -3, 3])\n",
    "fig.colorbar(im, cax = cax, orientation = 'vertical')\n",
    "fig.savefig(f\"{prefix}thomsonscatt{p}p{s}s.png\", dpi = my_dpi)"
   ]
  }
 ],
 "metadata": {
  "kernelspec": {
   "display_name": "Python 3 (ipykernel)",
   "language": "python",
   "name": "python3"
  },
  "language_info": {
   "codemirror_mode": {
    "name": "ipython",
    "version": 3
   },
   "file_extension": ".py",
   "mimetype": "text/x-python",
   "name": "python",
   "nbconvert_exporter": "python",
   "pygments_lexer": "ipython3",
   "version": "3.7.13"
  }
 },
 "nbformat": 4,
 "nbformat_minor": 5
}
