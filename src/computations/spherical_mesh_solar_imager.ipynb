{
 "cells": [
  {
   "cell_type": "code",
   "execution_count": 1,
   "id": "48f47e81-99c1-474f-a559-7d5271a34a7e",
   "metadata": {},
   "outputs": [
    {
     "name": "stdout",
     "output_type": "stream",
     "text": [
      "Jupyter environment detected. Enabling Open3D WebVisualizer.\n",
      "[Open3D INFO] WebRTC GUI backend enabled.\n",
      "[Open3D INFO] WebRTCWindowSystem: HTTP handshake server disabled.\n"
     ]
    }
   ],
   "source": [
    "import os\n",
    "import time\n",
    "import numpy as np\n",
    "import thomsonpy.thomson_scattering.thomson_scattering_tools as thtools\n",
    "import thomsonpy.data_management.formatter as fmt\n",
    "import thomsonpy.data_management.fragmenter as frm\n",
    "import thomsonpy.data_management.spherical_mesh.spherical_mesh as sphmesh\n",
    "import thomsonpy.data_management.visualizer as vis\n",
    "import thomsonpy.config.paths as paths\n",
    "import thomsonpy.config.solar_imager_params as sip\n",
    "import thomsonpy.config.thomson_scattering_params as tsp\n",
    "import thomsonpy.constants.units as units"
   ]
  },
  {
   "cell_type": "code",
   "execution_count": 2,
   "id": "b7aa1cc3-2d9d-44ae-af91-ccef1ee7b698",
   "metadata": {},
   "outputs": [],
   "source": [
    "prefix = \"../../\"\n",
    "predsci_data_filepath = prefix + paths.PREDSCI_DATA_PATH + paths.PREDSCI_FILENAME\n",
    "data_filepath = f\"{prefix}{paths.OCTREE_DATA_PATH}{os.path.splitext(paths.PREDSCI_FILENAME)[0]}_sphmesh.data\"\n",
    "dstruc_path = prefix + paths.OCTREES_PATH "
   ]
  },
  {
   "cell_type": "code",
   "execution_count": 3,
   "id": "53cce1db-75c8-4613-bfd0-601647a64be4",
   "metadata": {},
   "outputs": [
    {
     "name": "stdout",
     "output_type": "stream",
     "text": [
      "\n",
      "Starting data formatting and fragmenting...\n",
      "\n",
      "Loading datasets from ../../data/predictive_science/eclipse2021_mhd_final/corona/rho002.hdf :\n",
      " {'fakeDim0': (('fakeDim0',), (699,), 5, 0), 'fakeDim1': (('fakeDim1',), (327,), 5, 1), 'fakeDim2': (('fakeDim2',), (288,), 5, 2), 'Data-Set-2': (('fakeDim0', 'fakeDim1', 'fakeDim2'), (699, 327, 288), 5, 3)}\n",
      "# POINTS =  65829024\n",
      "\n",
      "Loading datasets from ../../data/predictive_science/eclipse2021_mhd_final/corona/rho002.hdf :\n",
      " {'fakeDim0': (('fakeDim0',), (699,), 5, 0), 'fakeDim1': (('fakeDim1',), (327,), 5, 1), 'fakeDim2': (('fakeDim2',), (288,), 5, 2), 'Data-Set-2': (('fakeDim0', 'fakeDim1', 'fakeDim2'), (699, 327, 288), 5, 3)}\n",
      "RADIAL (RSOL, 1-30). # radial = 288\n",
      "\n",
      "Loading datasets from ../../data/predictive_science/eclipse2021_mhd_final/corona/rho002.hdf :\n",
      " {'fakeDim0': (('fakeDim0',), (699,), 5, 0), 'fakeDim1': (('fakeDim1',), (327,), 5, 1), 'fakeDim2': (('fakeDim2',), (288,), 5, 2), 'Data-Set-2': (('fakeDim0', 'fakeDim1', 'fakeDim2'), (699, 327, 288), 5, 3)}\n",
      "THETA (rad, 0-PI). # theta = 327\n",
      "\n",
      "Loading datasets from ../../data/predictive_science/eclipse2021_mhd_final/corona/rho002.hdf :\n",
      " {'fakeDim0': (('fakeDim0',), (699,), 5, 0), 'fakeDim1': (('fakeDim1',), (327,), 5, 1), 'fakeDim2': (('fakeDim2',), (288,), 5, 2), 'Data-Set-2': (('fakeDim0', 'fakeDim1', 'fakeDim2'), (699, 327, 288), 5, 3)}\n",
      "\n",
      "PHI (rad, 0-2PI). # phi = 699\n",
      "65829024\n",
      "0.0 %\n",
      "1.5190867785006201 %\n",
      "3.0381735570012403 %\n",
      "4.55726033550186 %\n",
      "6.0763471140024805 %\n",
      "7.595433892503101 %\n",
      "9.11452067100372 %\n",
      "10.63360744950434 %\n",
      "12.152694228004961 %\n",
      "13.67178100650558 %\n",
      "15.190867785006201 %\n",
      "16.70995456350682 %\n",
      "18.22904134200744 %\n",
      "19.74812812050806 %\n",
      "21.26721489900868 %\n",
      "22.7863016775093 %\n",
      "24.305388456009922 %\n",
      "25.82447523451054 %\n",
      "27.34356201301116 %\n",
      "28.86264879151178 %\n",
      "30.381735570012403 %\n",
      "31.90082234851302 %\n",
      "33.41990912701364 %\n",
      "34.93899590551426 %\n",
      "36.45808268401488 %\n",
      "37.977169462515505 %\n",
      "39.49625624101612 %\n",
      "41.01534301951674 %\n",
      "42.53442979801736 %\n",
      "44.05351657651798 %\n",
      "45.5726033550186 %\n",
      "47.09169013351922 %\n",
      "48.610776912019844 %\n",
      "50.12986369052046 %\n",
      "51.64895046902108 %\n",
      "53.1680372475217 %\n",
      "54.68712402602232 %\n",
      "56.20621080452294 %\n",
      "57.72529758302356 %\n",
      "59.24438436152418 %\n",
      "60.763471140024805 %\n",
      "62.28255791852541 %\n",
      "63.80164469702604 %\n",
      "65.32073147552666 %\n",
      "66.83981825402728 %\n",
      "68.3589050325279 %\n",
      "69.87799181102852 %\n",
      "71.39707858952914 %\n",
      "72.91616536802977 %\n",
      "74.43525214653039 %\n",
      "75.95433892503101 %\n",
      "77.47342570353162 %\n",
      "78.99251248203224 %\n",
      "80.51159926053286 %\n",
      "82.03068603903348 %\n",
      "83.5497728175341 %\n",
      "85.06885959603471 %\n",
      "86.58794637453533 %\n",
      "88.10703315303596 %\n",
      "89.62611993153658 %\n"
     ]
    },
    {
     "ename": "KeyboardInterrupt",
     "evalue": "",
     "output_type": "error",
     "traceback": [
      "\u001b[0;31m---------------------------------------------------------------------------\u001b[0m",
      "\u001b[0;31mKeyboardInterrupt\u001b[0m                         Traceback (most recent call last)",
      "\u001b[0;32m/tmp/ipykernel_11930/2446773923.py\u001b[0m in \u001b[0;36m<module>\u001b[0;34m\u001b[0m\n\u001b[1;32m      9\u001b[0m \u001b[0mini_time\u001b[0m \u001b[0;34m=\u001b[0m \u001b[0mtime\u001b[0m\u001b[0;34m.\u001b[0m\u001b[0mperf_counter\u001b[0m\u001b[0;34m(\u001b[0m\u001b[0;34m)\u001b[0m\u001b[0;34m\u001b[0m\u001b[0;34m\u001b[0m\u001b[0m\n\u001b[1;32m     10\u001b[0m \u001b[0mmesh_data\u001b[0m \u001b[0;34m=\u001b[0m \u001b[0;34m[\u001b[0m\u001b[0;34m]\u001b[0m\u001b[0;34m\u001b[0m\u001b[0;34m\u001b[0m\u001b[0m\n\u001b[0;32m---> 11\u001b[0;31m \u001b[0mmesh_data\u001b[0m \u001b[0;34m=\u001b[0m \u001b[0mfrm\u001b[0m\u001b[0;34m.\u001b[0m\u001b[0mfragment\u001b[0m\u001b[0;34m(\u001b[0m\u001b[0mfrm\u001b[0m\u001b[0;34m.\u001b[0m\u001b[0mselection\u001b[0m\u001b[0;34m,\u001b[0m \u001b[0mfmt\u001b[0m\u001b[0;34m.\u001b[0m\u001b[0mapply_spherical_mesh_data_format\u001b[0m\u001b[0;34m,\u001b[0m \u001b[0mne_raw\u001b[0m\u001b[0;34m,\u001b[0m \u001b[0mdata_radial\u001b[0m\u001b[0;34m,\u001b[0m \u001b[0mdata_theta\u001b[0m\u001b[0;34m,\u001b[0m \u001b[0mdata_phi\u001b[0m\u001b[0;34m)\u001b[0m\u001b[0;34m\u001b[0m\u001b[0;34m\u001b[0m\u001b[0m\n\u001b[0m\u001b[1;32m     12\u001b[0m \u001b[0mfin_time\u001b[0m \u001b[0;34m=\u001b[0m \u001b[0mtime\u001b[0m\u001b[0;34m.\u001b[0m\u001b[0mperf_counter\u001b[0m\u001b[0;34m(\u001b[0m\u001b[0;34m)\u001b[0m\u001b[0;34m\u001b[0m\u001b[0;34m\u001b[0m\u001b[0m\n\u001b[1;32m     13\u001b[0m \u001b[0;34m\u001b[0m\u001b[0m\n",
      "\u001b[0;32m~/miniconda3/envs/iaa/lib/python3.8/site-packages/thomsonpy/data_management/fragmenter.py\u001b[0m in \u001b[0;36mfragment\u001b[0;34m(selection_func, format_func, ne_raw, data_radial, data_theta, data_phi, progress_step)\u001b[0m\n\u001b[1;32m    101\u001b[0m         \u001b[0mphi\u001b[0m \u001b[0;34m=\u001b[0m \u001b[0mdata_phi\u001b[0m\u001b[0;34m[\u001b[0m\u001b[0mi\u001b[0m\u001b[0;34m]\u001b[0m\u001b[0;34m\u001b[0m\u001b[0;34m\u001b[0m\u001b[0m\n\u001b[1;32m    102\u001b[0m \u001b[0;34m\u001b[0m\u001b[0m\n\u001b[0;32m--> 103\u001b[0;31m         \u001b[0;32mif\u001b[0m \u001b[0mselection\u001b[0m\u001b[0;34m(\u001b[0m\u001b[0mr\u001b[0m\u001b[0;34m,\u001b[0m \u001b[0mtheta\u001b[0m\u001b[0;34m,\u001b[0m \u001b[0mphi\u001b[0m\u001b[0;34m,\u001b[0m \u001b[0mne_mas\u001b[0m\u001b[0;34m)\u001b[0m \u001b[0;34m==\u001b[0m \u001b[0;32mTrue\u001b[0m\u001b[0;34m:\u001b[0m\u001b[0;34m\u001b[0m\u001b[0;34m\u001b[0m\u001b[0m\n\u001b[0m\u001b[1;32m    104\u001b[0m             \u001b[0md\u001b[0m \u001b[0;34m=\u001b[0m \u001b[0mformat_func\u001b[0m\u001b[0;34m(\u001b[0m\u001b[0mr\u001b[0m \u001b[0;34m=\u001b[0m \u001b[0mr\u001b[0m\u001b[0;34m,\u001b[0m \u001b[0mtheta\u001b[0m \u001b[0;34m=\u001b[0m \u001b[0mtheta\u001b[0m\u001b[0;34m,\u001b[0m \u001b[0mphi\u001b[0m \u001b[0;34m=\u001b[0m \u001b[0mphi\u001b[0m\u001b[0;34m,\u001b[0m \u001b[0mne_mas\u001b[0m \u001b[0;34m=\u001b[0m \u001b[0mne_mas\u001b[0m\u001b[0;34m)\u001b[0m\u001b[0;34m\u001b[0m\u001b[0;34m\u001b[0m\u001b[0m\n\u001b[1;32m    105\u001b[0m             \u001b[0mdata\u001b[0m\u001b[0;34m.\u001b[0m\u001b[0mappend\u001b[0m\u001b[0;34m(\u001b[0m\u001b[0md\u001b[0m\u001b[0;34m)\u001b[0m\u001b[0;34m\u001b[0m\u001b[0;34m\u001b[0m\u001b[0m\n",
      "\u001b[0;32m~/miniconda3/envs/iaa/lib/python3.8/site-packages/thomsonpy/data_management/fragmenter.py\u001b[0m in \u001b[0;36mselection\u001b[0;34m(r, theta, phi, ne)\u001b[0m\n\u001b[1;32m     78\u001b[0m \u001b[0;34m\u001b[0m\u001b[0m\n\u001b[1;32m     79\u001b[0m     \"\"\"\n\u001b[0;32m---> 80\u001b[0;31m     \u001b[0mcartesian_coords\u001b[0m \u001b[0;34m=\u001b[0m \u001b[0mformatter\u001b[0m\u001b[0;34m.\u001b[0m\u001b[0mspherical_to_cartesian\u001b[0m\u001b[0;34m(\u001b[0m\u001b[0mr\u001b[0m\u001b[0;34m,\u001b[0m \u001b[0mtheta\u001b[0m\u001b[0;34m,\u001b[0m \u001b[0mphi\u001b[0m\u001b[0;34m)\u001b[0m\u001b[0;34m\u001b[0m\u001b[0;34m\u001b[0m\u001b[0m\n\u001b[0m\u001b[1;32m     81\u001b[0m     \u001b[0;32mreturn\u001b[0m \u001b[0mcartesian_coords\u001b[0m\u001b[0;34m[\u001b[0m\u001b[0;36m0\u001b[0m\u001b[0;34m]\u001b[0m \u001b[0;34m>=\u001b[0m \u001b[0;36m0\u001b[0m \u001b[0;32mand\u001b[0m \u001b[0mcartesian_coords\u001b[0m\u001b[0;34m[\u001b[0m\u001b[0;36m1\u001b[0m\u001b[0;34m]\u001b[0m \u001b[0;34m>=\u001b[0m \u001b[0;36m0\u001b[0m \u001b[0;32mand\u001b[0m \u001b[0mr\u001b[0m \u001b[0;34m<=\u001b[0m \u001b[0;36m3\u001b[0m\u001b[0;34m\u001b[0m\u001b[0;34m\u001b[0m\u001b[0m\n\u001b[1;32m     82\u001b[0m \u001b[0;34m\u001b[0m\u001b[0m\n",
      "\u001b[0;32m~/miniconda3/envs/iaa/lib/python3.8/site-packages/thomsonpy/data_management/formatter.py\u001b[0m in \u001b[0;36mspherical_to_cartesian\u001b[0;34m(r, theta, phi)\u001b[0m\n\u001b[1;32m     68\u001b[0m     \u001b[0mx\u001b[0m \u001b[0;34m=\u001b[0m \u001b[0mr\u001b[0m \u001b[0;34m*\u001b[0m \u001b[0mnp\u001b[0m\u001b[0;34m.\u001b[0m\u001b[0msin\u001b[0m\u001b[0;34m(\u001b[0m\u001b[0mtheta\u001b[0m\u001b[0;34m)\u001b[0m \u001b[0;34m*\u001b[0m \u001b[0mnp\u001b[0m\u001b[0;34m.\u001b[0m\u001b[0msin\u001b[0m\u001b[0;34m(\u001b[0m\u001b[0mphi\u001b[0m\u001b[0;34m)\u001b[0m\u001b[0;34m\u001b[0m\u001b[0;34m\u001b[0m\u001b[0m\n\u001b[1;32m     69\u001b[0m     \u001b[0my\u001b[0m \u001b[0;34m=\u001b[0m \u001b[0mr\u001b[0m \u001b[0;34m*\u001b[0m \u001b[0mnp\u001b[0m\u001b[0;34m.\u001b[0m\u001b[0mcos\u001b[0m\u001b[0;34m(\u001b[0m\u001b[0mtheta\u001b[0m\u001b[0;34m)\u001b[0m\u001b[0;34m\u001b[0m\u001b[0;34m\u001b[0m\u001b[0m\n\u001b[0;32m---> 70\u001b[0;31m     \u001b[0mz\u001b[0m \u001b[0;34m=\u001b[0m \u001b[0mr\u001b[0m \u001b[0;34m*\u001b[0m \u001b[0mnp\u001b[0m\u001b[0;34m.\u001b[0m\u001b[0msin\u001b[0m\u001b[0;34m(\u001b[0m\u001b[0mtheta\u001b[0m\u001b[0;34m)\u001b[0m \u001b[0;34m*\u001b[0m \u001b[0mnp\u001b[0m\u001b[0;34m.\u001b[0m\u001b[0mcos\u001b[0m\u001b[0;34m(\u001b[0m\u001b[0mphi\u001b[0m\u001b[0;34m)\u001b[0m\u001b[0;34m\u001b[0m\u001b[0;34m\u001b[0m\u001b[0m\n\u001b[0m\u001b[1;32m     71\u001b[0m     \u001b[0;32mreturn\u001b[0m \u001b[0mnp\u001b[0m\u001b[0;34m.\u001b[0m\u001b[0marray\u001b[0m\u001b[0;34m(\u001b[0m\u001b[0;34m[\u001b[0m\u001b[0mx\u001b[0m\u001b[0;34m,\u001b[0m \u001b[0my\u001b[0m\u001b[0;34m,\u001b[0m \u001b[0mz\u001b[0m\u001b[0;34m]\u001b[0m\u001b[0;34m)\u001b[0m\u001b[0;34m\u001b[0m\u001b[0;34m\u001b[0m\u001b[0m\n\u001b[1;32m     72\u001b[0m \u001b[0;34m\u001b[0m\u001b[0m\n",
      "\u001b[0;31mKeyboardInterrupt\u001b[0m: "
     ]
    }
   ],
   "source": [
    "# DATA FRAGMENTING\n",
    "print(\"\\nStarting data formatting and fragmenting...\")\n",
    "\n",
    "ne_raw = frm.get_ne_raw(predsci_data_filepath)\n",
    "data_radial = frm.get_ne_raw_coords(predsci_data_filepath, \"radial\")\n",
    "data_theta = frm.get_ne_raw_coords(predsci_data_filepath, \"theta\")\n",
    "data_phi = frm.get_ne_raw_coords(predsci_data_filepath, \"phi\")\n",
    "\n",
    "ini_time = time.perf_counter()\n",
    "mesh_data = []\n",
    "mesh_data = frm.fragment(frm.selection, fmt.apply_spherical_mesh_data_format, ne_raw, data_radial, data_theta, data_phi)\n",
    "fin_time = time.perf_counter()\n",
    "\n",
    "print(\"Data formatting and fragmentation in\", fin_time - ini_time, \"seconds.\")\n",
    "\n",
    "fmt.dump(data_filepath, mesh_data)\n",
    "print(f\"Stored data for octree at {paths.OCTREE_DATA_PATH}\")\n",
    "\n",
    "print(\"Spherical mesh will have\", len(mesh_data), \"points\")"
   ]
  },
  {
   "cell_type": "code",
   "execution_count": 4,
   "id": "a0f621c0-01fd-4683-8f7e-99224ec7f368",
   "metadata": {},
   "outputs": [
    {
     "name": "stdout",
     "output_type": "stream",
     "text": [
      "Loaded octree data: 10751832 points.\n"
     ]
    }
   ],
   "source": [
    "nd_phi = 100\n",
    "nd_theta = 100\n",
    "nd_radial = 100\n",
    "radial_max = 30 * units.RSOL_TO_METERS\n",
    "\n",
    "ini_time = time.perf_counter()\n",
    "mesh = sphmesh.SphericalMesh(nd_theta, nd_phi, nd_radial, radial_max)\n",
    "for d in mesh_data:\n",
    "    mesh.add_data(d)\n",
    "ini_time = time.perf_counter()\n",
    "print(\"SphericalMesh \" + str(i + 1) + \" built in\", str((fin_time - ini_time) / 60), \"minutes.\")\n",
    "\n",
    "sphmesh.SphericalMesh.save(mesh, dstruc_path + \"sphmesh_\" + str(i + 1) + \".sphmesh\")\n",
    "print(\"SphericalMesh \" + str(i + 1) + \" created at\", paths.OCTREES_PATH)"
   ]
  },
  {
   "cell_type": "code",
   "execution_count": 3,
   "id": "829b3599-d1af-4d14-82c6-85f6b5b6afc5",
   "metadata": {},
   "outputs": [
    {
     "name": "stdout",
     "output_type": "stream",
     "text": [
      "Imaging between [0. 0.] RSol and [2.12132034 2.12132034] RSol.\n",
      "Resolution =  5000.0  km ( 295 x 295 ).\n",
      "# Numeric integral steps = 8.0\n"
     ]
    }
   ],
   "source": [
    "\"\"\"\n",
    "Starts execution of solar corona modeling with the Predictive Science model.\n",
    "\"\"\"\n",
    "print(\"Imaging between\", sip.IMAGE_MIN * units.METERS_TO_RSOL, \"RSol and\" , sip.IMAGE_MAX * units.METERS_TO_RSOL, \"RSol.\")\n",
    "print(\"Resolution = \", sip.IMAGE_RESOLUTION / 1000, \" km (\", sip.IMAGE_NUM_POINTS, \"x\", sip.IMAGE_NUM_POINTS, \").\")\n",
    "x_values = np.linspace(sip.MIN_COORD, sip.MAX_COORD, sip.IMAGE_NUM_POINTS) # de - a +\n",
    "#print(x_values * units.METERS_TO_RSOL)\n",
    "y_values = np.linspace(sip.MIN_COORD, sip.MAX_COORD, sip.IMAGE_NUM_POINTS)[::-1] # de + a -\n",
    "#print(y_values * units.METERS_TO_RSOL)\n",
    "model = np.zeros((sip.IMAGE_NUM_POINTS, sip.IMAGE_NUM_POINTS))\n",
    "print(\"# Numeric integral steps =\", tsp.NUM_Z)"
   ]
  },
  {
   "cell_type": "code",
   "execution_count": 4,
   "id": "32e9eb99-da3c-4e3b-a120-bd7574e1e73a",
   "metadata": {},
   "outputs": [
    {
     "name": "stdout",
     "output_type": "stream",
     "text": [
      "Loading octree...\n",
      "Octree loaded.\n",
      "Num points = 87025\n",
      "Progress 1.1490950876185004 %\n",
      "Progress 2.298190175237001 %\n",
      "Progress 3.4472852628555013 %\n",
      "Progress 4.596380350474002 %\n",
      "Progress 5.745475438092503 %\n",
      "Progress 6.894570525711003 %\n",
      "Progress 8.043665613329503 %\n",
      "Progress 9.192760700948003 %\n",
      "Progress 10.341855788566503 %\n",
      "Progress 11.490950876185005 %\n",
      "Progress 12.640045963803503 %\n",
      "Progress 13.789141051422005 %\n",
      "Progress 14.938236139040505 %\n",
      "Progress 16.087331226659007 %\n",
      "Progress 17.236426314277505 %\n",
      "Progress 18.385521401896007 %\n",
      "Progress 19.53461648951451 %\n",
      "Progress 20.683711577133007 %\n",
      "Progress 21.83280666475151 %\n",
      "Progress 22.98190175237001 %\n",
      "Progress 24.13099683998851 %\n",
      "Progress 25.280091927607007 %\n",
      "Progress 26.42918701522551 %\n",
      "Progress 27.57828210284401 %\n",
      "Progress 28.727377190462512 %\n",
      "Progress 29.87647227808101 %\n",
      "Progress 31.025567365699512 %\n",
      "Progress 32.174662453318014 %\n",
      "Progress 33.32375754093651 %\n",
      "Progress 34.47285262855501 %\n",
      "Progress 35.621947716173516 %\n",
      "Progress 36.771042803792014 %\n",
      "Progress 37.92013789141052 %\n",
      "Progress 39.06923297902902 %\n",
      "Progress 40.218328066647516 %\n",
      "Progress 41.367423154266014 %\n",
      "Progress 42.51651824188451 %\n",
      "Progress 43.66561332950302 %\n",
      "Progress 44.814708417121516 %\n",
      "Progress 45.96380350474002 %\n",
      "Progress 47.11289859235851 %\n",
      "Progress 48.26199367997702 %\n",
      "Progress 49.411088767595515 %\n",
      "Progress 50.560183855214014 %\n",
      "Progress 51.70927894283251 %\n",
      "Progress 52.85837403045102 %\n",
      "Progress 54.007469118069515 %\n",
      "Progress 55.15656420568802 %\n",
      "Progress 56.30565929330652 %\n",
      "Progress 57.454754380925024 %\n",
      "Progress 58.60384946854352 %\n",
      "Progress 59.75294455616202 %\n",
      "Progress 60.902039643780526 %\n",
      "Progress 62.051134731399024 %\n",
      "Progress 63.20022981901753 %\n",
      "Progress 64.34932490663603 %\n",
      "Progress 65.49841999425452 %\n",
      "Progress 66.64751508187302 %\n",
      "Progress 67.79661016949152 %\n",
      "Progress 68.94570525711002 %\n",
      "Progress 70.09480034472853 %\n",
      "Progress 71.24389543234703 %\n",
      "Progress 72.39299051996552 %\n",
      "Progress 73.54208560758403 %\n",
      "Progress 74.69118069520253 %\n",
      "Progress 75.84027578282104 %\n",
      "Progress 76.98937087043953 %\n",
      "Progress 78.13846595805803 %\n",
      "Progress 79.28756104567653 %\n",
      "Progress 80.43665613329503 %\n",
      "Progress 81.58575122091352 %\n",
      "Progress 82.73484630853203 %\n",
      "Progress 83.88394139615053 %\n",
      "Progress 85.03303648376902 %\n",
      "Progress 86.18213157138753 %\n",
      "Progress 87.33122665900603 %\n",
      "Progress 88.48032174662454 %\n",
      "Progress 89.62941683424303 %\n",
      "Progress 90.77851192186154 %\n",
      "Progress 91.92760700948004 %\n",
      "Progress 93.07670209709855 %\n",
      "Progress 94.22579718471702 %\n",
      "Progress 95.37489227233553 %\n",
      "Progress 96.52398735995403 %\n",
      "Progress 97.67308244757254 %\n",
      "Progress 98.82217753519103 %\n",
      "Progress 99.97127262280954 %\n"
     ]
    }
   ],
   "source": [
    "# Quadrant 1\n",
    "print(\"Loading SphericalMesh...\")\n",
    "NE_MODEL = octr.Octree.load(octrees_path + \"sphmesh_1.sphmesh\")\n",
    "print(\"SphericalMesh loaded.\")\n",
    "\n",
    "num_points = sip.IMAGE_NUM_POINTS * sip.IMAGE_NUM_POINTS\n",
    "print(f\"Num points = {num_points}\")\n",
    "count = 0\n",
    "for y in range(sip.IMAGE_NUM_POINTS):\n",
    "    for x in range(sip.IMAGE_NUM_POINTS):\n",
    "        if (x_values[x]**2 + y_values[y]**2) > tsp.SOLAR_RADIUS**2:\n",
    "            # Coordinates with the center of the Sun as Origin of the Reference System.\n",
    "            target = (x_values[x], y_values[y], 0)\n",
    "            #print(target * units.METERS_TO_RSOL)\n",
    "            # Creates a ThomsonGeometry object to manage the ray - tracing across the Corona.\n",
    "            TG = thtools.ThomsonGeometry(sip.SUN_CENTER, sip.OBSERVER, target, tsp.SOLAR_RADIUS)\n",
    "\n",
    "            # Line of sight integration generating a value for the scattered light model.\n",
    "            scattered_light = thtools.get_scattered_light(tsp.WAVELENGTH, tsp.T_SOL, tsp.X, TG.get_elongation(), tsp.INI_Z, tsp.FIN_Z, tsp.INCR_Z, TG, NE_MODEL)\n",
    "            model[y][x] = scattered_light\n",
    "        else:\n",
    "            model[y][x] = 0\n",
    "\n",
    "        # Progress\n",
    "        count += 1\n",
    "        if count % 1000 == 0:\n",
    "            print(\"Progress\", count / num_points * 100,\"%\")\n",
    "\n",
    "fmt.dump(f\"../../{paths.MODELS_PATH}predsci_test_sphmesh_ne_12steps.np\", model)\n"
   ]
  },
  {
   "cell_type": "code",
   "execution_count": 5,
   "id": "3d16bf3f-c027-422f-b4f0-aba712af688f",
   "metadata": {},
   "outputs": [
    {
     "data": {
      "text/plain": [
       "<matplotlib.colorbar.Colorbar at 0x7f4e7f22e160>"
      ]
     },
     "execution_count": 5,
     "metadata": {},
     "output_type": "execute_result"
    },
    {
     "data": {
      "image/png": "[encoded data removed]",
      "text/plain": [
       "<Figure size 720x720 with 2 Axes>"
      ]
     },
     "metadata": {
      "needs_background": "light"
     },
     "output_type": "display_data"
    }
   ],
   "source": [
    "\"\"\"\n",
    "Visualization of the ThomsonScattering.\n",
    "\"\"\"\n",
    "\"\"\"\n",
    "cmap\n",
    "['rainbow', 'nipy_spectral', 'gist_ncar', 'viridis', 'twilight', 'twilight_shifted']\n",
    "\"\"\"\n",
    "\n",
    "\"\"\"\n",
    "interpolation\n",
    "'none', 'antialiased', 'nearest', 'bilinear', \n",
    "'bicubic', 'spline16', 'spline36', 'hanning', \n",
    "'hamming', 'hermite', 'kaiser', 'quadric', \n",
    "'catrom', 'gaussian', 'bessel', 'mitchell', \n",
    "'sinc', 'lanczos', 'blackman'\n",
    "\n",
    "\"\"\"\n",
    "\n",
    "\"\"\"\n",
    "interpolation_stage{'data', 'rgba'}, default: 'data'\n",
    "\"\"\"\n",
    "import matplotlib.pyplot as plt\n",
    "plt.figure(figsize=(10, 10))\n",
    "plt.title(\"Thomson Scattering with PredSci Ne model\")\n",
    "plt.ylabel(\"Y (RSol)\")\n",
    "plt.xlabel(\"X (RSol)\")\n",
    "plt.imshow(model, cmap = 'viridis', interpolation = 'none', extent=[sip.MIN_COORD * units.METERS_TO_RSOL, sip.MAX_COORD * units.METERS_TO_RSOL, sip.MIN_COORD * units.METERS_TO_RSOL, sip.MAX_COORD * units.METERS_TO_RSOL])\n",
    "plt.colorbar()"
   ]
  }
 ],
 "metadata": {
  "kernelspec": {
   "display_name": "Python 3 (ipykernel)",
   "language": "python",
   "name": "python3"
  },
  "language_info": {
   "codemirror_mode": {
    "name": "ipython",
    "version": 3
   },
   "file_extension": ".py",
   "mimetype": "text/x-python",
   "name": "python",
   "nbconvert_exporter": "python",
   "pygments_lexer": "ipython3",
   "version": "3.8.12"
  }
 },
 "nbformat": 4,
 "nbformat_minor": 5
}
