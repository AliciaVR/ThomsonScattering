{
  "nbformat": 4,
  "nbformat_minor": 0,
  "metadata": {
    "colab": {
      "name": "espectro_sol.ipynb",
      "provenance": [],
      "collapsed_sections": []
    },
    "kernelspec": {
      "name": "python3",
      "display_name": "Python 3"
    },
    "language_info": {
      "name": "python"
    }
  },
  "cells": [
    {
      "cell_type": "markdown",
      "metadata": {
        "id": "qqovFtropJo7"
      },
      "source": [
        "#**Espectro del Sol**"
      ]
    },
    {
      "cell_type": "code",
      "metadata": {
        "id": "QuGTa-_XpHe2"
      },
      "source": [
        "import numpy as np\n",
        "from scipy import interpolate\n",
        "from scipy.ndimage import gaussian_filter1d\n",
        "from scipy.interpolate import splev, splrep\n",
        "import matplotlib.pyplot as plt"
      ],
      "execution_count": null,
      "outputs": []
    },
    {
      "cell_type": "code",
      "metadata": {
        "id": "xbXEbr5FsnEP"
      },
      "source": [
        "def fts_spectra(wli, wlf):\n",
        "\n",
        "    \"\"\"'Kitt Peak FTS-Spectral-Atlas'\"\"\"\n",
        "\n",
        "    print('Enter end wavelength (3290 - 12508 A)')\n",
        "    #path = '/Users/dorozco/Dropbox (IdAdA)/Python/'\n",
        "    file = 'fts.npz'\n",
        "    # np.savez('fts.npz', fts=fts, fts_w=fts_w)\n",
        "    data = np.load(file)\n",
        "    fts = data['fts']\n",
        "    fts_w = data['fts_w']\n",
        "\n",
        "    indx = np.where((fts_w > np.int(wli)) & (fts_w < np.int(wlf)))\n",
        "\n",
        "    return fts[indx], fts_w[indx]"
      ],
      "execution_count": null,
      "outputs": []
    },
    {
      "cell_type": "code",
      "metadata": {
        "colab": {
          "base_uri": "https://localhost:8080/",
          "height": 508
        },
        "id": "YVWzRB_BskjQ",
        "outputId": "8c0bc4dc-db57-4249-f8fb-4941e5290968"
      },
      "source": [
        "# Para que sea con unidades multiplicar el FTS por la función de plank a 5000A.\n",
        "onda_i = 3800 # 3800\n",
        "onda_f = 3810 # 4600\n",
        "num_puntos = 5 # 1000\n",
        "\n",
        "# Obtención de puntos en el rango dado:\n",
        "fts, wl = fts_spectra(onda_i, onda_f)\n",
        "\n",
        "print(\"Los puntos que se encuentran entre\", onda_i, \"-\", onda_f, \"Ángstrom son:\")\n",
        "print(\"EJE Y: \\n\", fts, \"\\n num_puntos:\", fts.size)\n",
        "print(\"EJE X: \\n\", wl, \"\\n num_puntos:\", wl.size)\n",
        "\n",
        "# Obtención de una spline de los datos.\n",
        "spl = splrep(wl, fts)\n",
        "\n",
        "# Número de puntos en el eje X (longitudes de onda en Ángstroms)\n",
        "x2 = np.linspace(onda_i, onda_f, num_puntos)\n",
        "print(x2, x2.size)\n",
        "\n",
        "y2 = splev(x2, spl)\n",
        "print(y2, y2.size)\n",
        "\n",
        "y3 = gaussian_filter1d(y2, 40.0/(x2[1]-x2[0]))\n",
        "\n",
        "plt.plot(x2,y2/1e4)\n",
        "plt.plot(x2,y3/1e4)\n",
        "vs = 300/3e6*x2\n",
        "plt.plot(x2,y3/1e4)"
      ],
      "execution_count": null,
      "outputs": [
        {
          "output_type": "stream",
          "name": "stdout",
          "text": [
            "Enter end wavelength (3290 - 12508 A)\n",
            "Los puntos que se encuentran entre 3800 - 3810 Ángstrom son:\n",
            "EJE Y: \n",
            " [4770 4716 4661 ... 8941 8911 8884] \n",
            " num_puntos: 4999\n",
            "EJE X: \n",
            " [3800.002  3800.004  3800.006  ... 3809.9941 3809.996  3809.998 ] \n",
            " num_puntos: 4999\n",
            "(array([3800.00195312, 3800.00195312, 3800.00195312, ..., 3809.99804688,\n",
            "       3809.99804688, 3809.99804688]), array([4770.        , 4726.21230884, 4684.76214709, ...,    0.        ,\n",
            "          0.        ,    0.        ]), 3) 5003\n",
            "[3800.  3802.5 3805.  3807.5 3810. ] 5\n",
            "[4844.7301286  7226.         9057.         2319.         8866.07798363] 5\n"
          ]
        },
        {
          "output_type": "execute_result",
          "data": {
            "text/plain": [
              "[<matplotlib.lines.Line2D at 0x7f52b9448150>]"
            ]
          },
          "metadata": {},
          "execution_count": 27
        },
        {
          "output_type": "display_data",
          "data": {
            "image/png": "[encoded data removed]",
            "text/plain": [
              "<Figure size 432x288 with 1 Axes>"
            ]
          },
          "metadata": {
            "needs_background": "light"
          }
        }
      ]
    }
  ]
}