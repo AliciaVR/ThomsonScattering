{
  "nbformat": 4,
  "nbformat_minor": 0,
  "metadata": {
    "colab": {
      "name": "thomson_scattering_tools.ipynb",
      "provenance": [],
      "collapsed_sections": [],
      "toc_visible": true
    },
    "kernelspec": {
      "name": "python3",
      "display_name": "Python 3"
    },
    "language_info": {
      "name": "python"
    }
  },
  "cells": [
    {
      "cell_type": "markdown",
      "metadata": {
        "id": "jL9Y_Y3Akqk5"
      },
      "source": [
        "#**Dispersión de Thomson en el Sol**"
      ]
    },
    {
      "cell_type": "markdown",
      "metadata": {
        "id": "suwszvX5mMk2"
      },
      "source": [
        "Cuando una onda electromagnética incide en un electrón, produce una vibración en dicho electrón que da lugar a una segunda onda con la misma frecuencia, y por tanto, con la misma energía, en otra dirección. Dicha onda, tendrá sin embargo una menor intensidad."
      ]
    },
    {
      "cell_type": "markdown",
      "metadata": {
        "id": "hLo-UaYjYDWO"
      },
      "source": [
        "Deben cumplirse **dos condiciones** para que tenga lugar la dispersión de Thomson:\n",
        "\n",
        "1.   La **longitud de coherencia** de la radiación es pequeña en comparación con la separación entre las partículas.\n",
        "2.   La **energía de los fotones** es despreciable en comparación con la energía de la masa del resto de partículas.\n",
        "\n",
        "*T.A. Howard, S.J. Tappin (Interplanetary Coronal Mass Ejections Observed in the Heliosphere: 1. Review of Theory, 27 May 2009)*"
      ]
    },
    {
      "cell_type": "markdown",
      "metadata": {
        "id": "-cMzMVWiZNej"
      },
      "source": [
        "Sección eficaz para un electrón: **7.95E-30 m²sr-¹**\n"
      ]
    },
    {
      "cell_type": "markdown",
      "metadata": {
        "id": "wqXgTUL1nQOL"
      },
      "source": [
        "***Dispersión de Thomson en la corona solar***: podemos observar el fenómeno de la dispersión de Thomson en la corona del Sol, donde los fotones emitidos desde la fotosfera interaccionan con los electrones libres del plasma de la corona.\n",
        "En particular, se puede utilizar la información que nos da este fenómeno para estudiar la masa de las eyecciones de masa coronal, EMCs (en inglés, *Coronal Mass Ejections, CMEs*)."
      ]
    },
    {
      "cell_type": "markdown",
      "metadata": {
        "id": "-_qyyBK2qKMd"
      },
      "source": [
        "##**1. Geometría y fenómeno de la dispersión de Thomson**"
      ]
    },
    {
      "cell_type": "markdown",
      "metadata": {
        "id": "xJmrKL7VyL-D"
      },
      "source": [
        "### 1.1. Definición de **constantes** y **parámetros iniciales**"
      ]
    },
    {
      "cell_type": "markdown",
      "metadata": {
        "id": "DtFO4L6ayRl1"
      },
      "source": [
        "Importación de librerías y definición de constantes para la realización de los cálculos:"
      ]
    },
    {
      "cell_type": "code",
      "metadata": {
        "id": "KK5Wiz8PrcE3"
      },
      "source": [
        "from math import *\n",
        "from matplotlib import pyplot\n",
        "import numpy as np"
      ],
      "execution_count": 1,
      "outputs": []
    },
    {
      "cell_type": "markdown",
      "source": [
        "####Constantes"
      ],
      "metadata": {
        "id": "h4ARlO5Rv0Lf"
      }
    },
    {
      "cell_type": "code",
      "metadata": {
        "id": "52pMeKKpNMbC"
      },
      "source": [
        "# Constantes \n",
        "RSOL = 696340000 # 1 Radio solar (m).\n",
        "SIGMAe = 7.95E-30 # sección eficaz de un electrón, e, (m²sr⁻¹)\n",
        "ONDA= 5000E-10 # Longitud de onda en estudio, en metros (5000A)\n",
        "T_SOL = 5778 # K\n",
        "X = 215 # RSol, distancia entre la Tierra y el Sol (O-S).\n",
        "EPSILON = (radians(10)) # rad, configuración inicial de la elongación \n",
        "                        # para el modelo de la K-Corona.\n",
        "H = 6.62607015E-34 # J/s\n",
        "C = 3E8 # m/s \n",
        "K = 1.38E-23 # Constante de Boltzmann"
      ],
      "execution_count": 2,
      "outputs": []
    },
    {
      "cell_type": "markdown",
      "metadata": {
        "id": "QTz1YaWHWl_y"
      },
      "source": [
        "####**Ley de desplazamiento de Wien**"
      ]
    },
    {
      "cell_type": "code",
      "metadata": {
        "id": "eJCfPGW2Vm2z"
      },
      "source": [
        "def ley_wien(onda):\n",
        "  return 2.8978E-3 / onda"
      ],
      "execution_count": 3,
      "outputs": []
    },
    {
      "cell_type": "markdown",
      "metadata": {
        "id": "CDYNjaEB9Cy1"
      },
      "source": [
        "####**Ley de Planck:** radiación de cuerpo negro\n",
        "\n",
        "En función de la **frecuencia**, $\\nu$:\n",
        "$$I_\\nu = \\frac{2 h \\nu^3}{c^2}\\frac{1}{e^{\\frac{h \\nu}{k T}}-1}$$\n",
        "\n",
        "En función de la **longitud de onda**, $\\lambda$:\n",
        "$$I_\\lambda = \\frac{2 h c^2}{\\lambda^5}\\frac{1}{e^{\\frac{hc}{\\lambda k T}} - 1}$$\n",
        "Donde:\n",
        "\n",
        "\n",
        "* $h = 6.62607015·10^{-34} J·s$ es la constante de Planck.  \n",
        "* $\\nu $ es la frecuencia de la longitud de onda.\n",
        "* $k = 1.38·10^{-23}J·K^{-1}$ es la constante de Boltzmann.\n",
        "* $c = 3·10^8m·s^{-1}$ es la velocidad de la luz.\n",
        "* $T = 5778 K$ es la temperatura (en este caso del Sol).\n",
        "\n"
      ]
    },
    {
      "cell_type": "code",
      "metadata": {
        "id": "KmhaxaH9KKDm"
      },
      "source": [
        "def radiacion_planck(T, onda, es_long_onda = True):\n",
        "  '''\n",
        "  Ley de radiación de Planck para el cuerpo negro. Contempla las dos \n",
        "  expresiones, en función de la longitud de onda o en función de la frecuencia\n",
        "  de la onda.\n",
        "\n",
        "  Parámetros\n",
        "  -----------\n",
        "  T: temperatura efectiva del cuerpo negro.\n",
        "  onda: longitud de onda en metros.\n",
        "  es_long_onda: True si el valor del parámetro 'onda' se corresponde con la\n",
        "  longitud de onda, False si no, y, por tanto, se corresponde con la frecuencia\n",
        "  de la onda.\n",
        "\n",
        "  Devuelve\n",
        "  -----------\n",
        "  La intensidad de radiancia del cuerpo negro en unidades (SI)\n",
        "  '''\n",
        "\n",
        "  if (es_long_onda):\n",
        "    # Ley de Planck en función de la longitud de onda.\n",
        "    i0 = (2 * H * C**2) / (onda**5 * (exp((H * C) / (onda * K * T)) - 1))\n",
        "  else:\n",
        "    # Ley de Planck en función de la frecuencia de la onda.\n",
        "    i0 = (2 * H * onda**3) / (C**2 * (np.exp((H * onda) / (K * T)) - 1))\n",
        "\n",
        "  return i0\n"
      ],
      "execution_count": 4,
      "outputs": []
    },
    {
      "cell_type": "markdown",
      "metadata": {
        "id": "bnZZ-_mHKK_y"
      },
      "source": [
        "####Función de limb-darkening"
      ]
    },
    {
      "cell_type": "code",
      "metadata": {
        "id": "T4rFnAT0KKlk"
      },
      "source": [
        "def allen_clv(wave,theta,check = 0):\n",
        "\n",
        "    \"\"\"\n",
        "    Allen's Astrophysical Quantities, Springer, 2000 \n",
        "    get u(lambda) from Allen tables. I(theta)/I{(O)\n",
        "    theta = angle between the Sun's radius vector and the line of sight. In rad.\n",
        "    wave = wavelength in Angstroms\n",
        "    forth parameter is u!!!!!\n",
        "    \"\"\"\n",
        "\n",
        "    def coefs(wave):\n",
        "        u = (- 8.9829751 + 0.0069093916*wave - 1.8144591e-6*wave**2 + 2.2540875e-10*wave**3 -\n",
        "            1.3389747e-14*wave**4 + 3.0453572e-19*wave**5 )\n",
        "        v = (+ 9.2891180 - 0.0062212632*wave + 1.5788029e-6*wave**2 - 1.9359644e-10*wave**3 + \n",
        "            1.1444469e-14*wave**4 - 2.5994940e-19*wave**5 )\n",
        "        return u,v\n",
        "\n",
        "    try:\n",
        "        if check == 1:\n",
        "            gamma = np.arange(0,90,1)*np.pi/180.\n",
        "            u,v = coefs(wave) \n",
        "            I = 1 - (u+v) + (u+v)*np.cos(gamma)\n",
        "            clv = 1 - u - v + u*np.cos(gamma)+v*np.cos(gamma)\n",
        "            plt.plot(gamma,clv)\n",
        "            plt.plot(gamma,I,'--')\n",
        "    except:\n",
        "        pass\n",
        "    u,v = coefs(wave) \n",
        "    if check == 2:\n",
        "        return u + v\n",
        "    return 1 - u - v + u*np.cos(theta)+v*np.cos(theta),u,v,u + v\n",
        "\n",
        "def coef_limb_darkening(onda, unidades = 1E+10):\n",
        "  '''\n",
        "  Adaptación de la función allen_clv al parámetro necesario para la dispersión\n",
        "  de Thomson, el coeficiente de limb-darkening (u).\n",
        "\n",
        "  Parámetros\n",
        "  -------------\n",
        "  onda: longitud de onda en metros (m).\n",
        "  unidades: factor de conversión necesario para que la longitud de onda se\n",
        "  transforme a Ángstroms. Por defecto asume que el parámetro onda\n",
        "  se da en unidades SI y, por tanto, multiplica por el factor 1E+10 para obtener\n",
        "  Ángstroms.\n",
        "\n",
        "  Véase\n",
        "  ----------\n",
        "  allen_clv: función basada en las tablas de Allen (Astrophysical Quantities, \n",
        "  Springer 2000) de SPG (IAA - CSIC).\n",
        "\n",
        "  Devuelve\n",
        "  ----------\n",
        "  El coeficiente de limb-darkening (u).\n",
        "  '''\n",
        "  onda = onda * unidades\n",
        "  return allen_clv(onda, 1, 2)"
      ],
      "execution_count": 5,
      "outputs": []
    },
    {
      "cell_type": "markdown",
      "metadata": {
        "id": "sqoPuRlFmR-C"
      },
      "source": [
        "####Parámetros iniciales"
      ]
    },
    {
      "cell_type": "code",
      "source": [
        "def print_params_state(RSOL, SIGMAe, ONDA, T, I0, U, X, EPSILON):\n",
        "  print(\"RSOL =\", RSOL, \"m\")\n",
        "  print(\"SIGMAe =\", SIGMAe, \"m²sr⁻¹\") # sección eficaz de un electrón, e, (m²sr⁻¹)\n",
        "  print(\"ONDA =\", ONDA, \"m\") # Longitud de onda en estudio, en metros (5000A)\n",
        "  print(\"T =\", T, \"K\") # K\n",
        "  print(\"I0 =\", I0) # intensidad de la fuente (el Sol)\n",
        "  print(\"U =\", U) # coeficiente de limb - darkening.\n",
        "  print(\"X =\", X, \"RSOL\") # RSol, distancia entre la Tierra y el Sol (O-S).\n",
        "  print(\"EPSILON =\", EPSILON, \"rad\")"
      ],
      "metadata": {
        "id": "gd01aV8U3eEu"
      },
      "execution_count": 6,
      "outputs": []
    },
    {
      "cell_type": "markdown",
      "metadata": {
        "id": "ZGV5RBTeqk1C"
      },
      "source": [
        "### 1.2. Funciones auxiliares ligadas a la geometría de la dispersión de Thomson"
      ]
    },
    {
      "cell_type": "code",
      "metadata": {
        "id": "RJDvUruXqki-"
      },
      "source": [
        "# Primera parte: para un solo electrón.\n",
        "\n",
        "def faux_omega_d(d, r = 1):\n",
        "  '''\n",
        "  Devuelve un valor para el ángulo omega (T-Q-S) en radianes (rad) en función de\n",
        "  la distancia, d, del centro de la estrella, S, al punto de dispersión, Q.\n",
        "\n",
        "  En el caso de que se emplee el radio estelar como unidad, por defecto, r = 1.\n",
        "  \n",
        "  Función auxiliar de la geometría de la dispersión de Thomson.\n",
        "\n",
        "  Parámetros\n",
        "  ----------\n",
        "  d: distancia entre el centro de la estrella, S, y el punto de dispersión, Q.\n",
        "  r: radio de la estrella. \n",
        "\n",
        "  Devuelve\n",
        "  ----------\n",
        "  Valor del ángulo omega en radianes (rad).\n",
        "  '''\n",
        "\n",
        "  return asin(r / d)\n",
        "\n",
        "def faux_z_intensidad(x, d, chi):\n",
        "  '''\n",
        "  Devuelve el valor de la distancia, z, del observador, O, al punto de \n",
        "  dispersión, Q, en función del ángulo de dispersión (S-Q-O) y de la distancia, \n",
        "  d, del punto de dispersión (Q) al centro de la estrella (S).\n",
        "\n",
        "  Función auxiliar de la geometría de la dispersión de Thomson.\n",
        "\n",
        "  Parámetros\n",
        "  ----------\n",
        "  x: distancia del observador (O) al centro de la estrella (S).\n",
        "  d: distancia del punto de dispersión (Q) al centro de la estrella (S).\n",
        "  chi: ángulo de dispersión (S-Q-O) en radianes (rad).\n",
        "\n",
        "  Devuelve\n",
        "  ----------\n",
        "  Valor de la distancia, z, del observador, O, al centro de la estrella, S.\n",
        "  '''\n",
        "\n",
        "  return d * cos(chi) + sqrt(pow(d, 2) * (pow(cos(chi), 2) - 1) + pow(x, 2))\n",
        "\n",
        "# Segunda parte: a través de la línea del observador.\n",
        "\n",
        "def faux_d(x, z, epsilon):\n",
        "  '''\n",
        "  Devuelve un valor para la distancia, d, entre el Sol, S, y el punto de\n",
        "  dispersión, Q, en función de la distancia, z, desde el observador, O, y el\n",
        "  punto de dispersión, Q, y del ángulo de la elongación, epsilon.\n",
        "\n",
        "  Función auxiliar de la geometría de la dispersión de Thomson.\n",
        "\n",
        "  Parámetros\n",
        "  ----------\n",
        "  x: distancia del observador (O) al centro de la estrella (S).\n",
        "  z: distancia entre el observador, O, y el punto de dispersión, Q.\n",
        "  epsilon: ángulo de la elongación (S-Q-O) en radianes (rad).\n",
        "\n",
        "  Devuelve\n",
        "  ----------\n",
        "  Valor de la distancia, d.\n",
        "  '''\n",
        "\n",
        "  return pow(pow(x, 2) + pow(z, 2) - 2 * x * z * cos(epsilon), 0.5)\n",
        "\n",
        "def faux_omega(x, z, epsilon, r = 1):\n",
        "  '''\n",
        "  Devuelve un valor para el ángulo omega (T-Q-S) en radianes (rad) en función de\n",
        "  la distancia, z, del observador, O, al punto de dispersión, Q, y del ángulo de\n",
        "  la elongación, epsilon.\n",
        "\n",
        "  En el caso de que se emplee el radio estelar como unidad, por defecto, r = 1.\n",
        "\n",
        "  Función auxiliar de la geometría de la dispersión de Thomson.\n",
        "\n",
        "  Parámetros\n",
        "  ----------\n",
        "  x: distancia del observador (O) al centro de la estrella (S).\n",
        "  z: distancia entre el observador, O, y el punto de dispersión, Q.\n",
        "  epsilon: ángulo de la elongación (S-Q-O) en radianes (rad).\n",
        "  r: radio de la estrella.\n",
        "\n",
        "  Devuelve\n",
        "  ----------\n",
        "  Valor del ángulo omega en radianes (rad).\n",
        "\n",
        "  Véase\n",
        "  ----------\n",
        "  faux_d: función auxiliar que obtiene la distancia d en función de \n",
        "  la distancia z y el ángulo epsilon.\n",
        "  faux_omega_d: función auxiliar que obtiene el ángulo omega en función de la\n",
        "  distancia d.\n",
        "  '''\n",
        "\n",
        "  return faux_omega_d(faux_d(x, z, epsilon), r)\n",
        "\n",
        "def faux_z(x, epsilon, phi):\n",
        "  '''\n",
        "  Devuelve el valor de la distancia, z, del observador, O, al punto de \n",
        "  dispersión, Q, en función del ángulo de la elongación (Q-O-S), epsilon, y del\n",
        "  ángulo phi (O-S-Q).\n",
        "\n",
        "  Función auxiliar de la geometría de la dispersión de Thomson.\n",
        "\n",
        "  Parámetros\n",
        "  ----------\n",
        "  x: distancia del observador (O) al centro de la estrella (S).\n",
        "  epsilon: ángulo de la elongación (Q-O-S) en radianes (rad).\n",
        "  phi: ángulo O-S-Q en radianes (rad).\n",
        "\n",
        "  Devuelve\n",
        "  ----------\n",
        "  Valor de la distancia, z, del observador, O, al centro del Sol, S, en radios\n",
        "  solares (Rsol).\n",
        "  '''\n",
        "\n",
        "  return (x * tan(phi)) / (sin(epsilon) + tan(phi) * cos(epsilon))\n"
      ],
      "execution_count": 7,
      "outputs": []
    },
    {
      "cell_type": "markdown",
      "metadata": {
        "id": "UgX_zje-0TqB"
      },
      "source": [
        "## **2. Dispersión de Thomson para un único electrón**"
      ]
    },
    {
      "cell_type": "markdown",
      "metadata": {
        "id": "cSpnA9yaDA1u"
      },
      "source": [
        "###2.1. Obtención de los **coeficientes de van de Hulst**"
      ]
    },
    {
      "cell_type": "markdown",
      "metadata": {
        "id": "ZIgnuaixCgrI"
      },
      "source": [
        "Coeficiente **A** de van de Hulst:"
      ]
    },
    {
      "cell_type": "code",
      "metadata": {
        "id": "a4xfUtuOCmKJ"
      },
      "source": [
        "def vanDeHulstA(omega):\n",
        "  '''\n",
        "  Coeficiente A de van de Hulst en función del ángulo omega.\n",
        "\n",
        "  Parámetros\n",
        "  -----------\n",
        "  omega: ángulo T-Q-S en radianes (rad).\n",
        "\n",
        "  Devuelve\n",
        "  ---------\n",
        "  Valor del coeficiente A de van de Hulst.\n",
        "  '''\n",
        "\n",
        "  return cos(omega) * pow(sin(omega), 2)"
      ],
      "execution_count": 8,
      "outputs": []
    },
    {
      "cell_type": "markdown",
      "metadata": {
        "id": "FHQYqvlyCmnW"
      },
      "source": [
        "Coeficiente **B** de van de Hulst:"
      ]
    },
    {
      "cell_type": "code",
      "metadata": {
        "id": "3QMVmuTSCm6O"
      },
      "source": [
        "def vanDeHulstB(omega):\n",
        "  '''\n",
        "  Coeficiente B de van de Hulst en función del ángulo omega.\n",
        "\n",
        "  Parámetros\n",
        "  -----------\n",
        "  omega: ángulo T-Q-S en radianes (rad).\n",
        "\n",
        "  Devuelve\n",
        "  ---------\n",
        "  Valor del coeficiente B de van de Hulst.\n",
        "  '''\n",
        "\n",
        "  return -1 / 8 * (1 - 3 * pow(sin(omega), 2) - (pow(cos(omega), 2) / sin(omega)\n",
        "   * (1 + 3 * pow(sin(omega), 2)) * log((1 + sin(omega)) / cos(omega))))"
      ],
      "execution_count": 9,
      "outputs": []
    },
    {
      "cell_type": "markdown",
      "metadata": {
        "id": "XJN7hGOQCnN2"
      },
      "source": [
        "Coeficiente **C** de van de Hulst"
      ]
    },
    {
      "cell_type": "code",
      "metadata": {
        "id": "sZka5s7ZCnig"
      },
      "source": [
        "def vanDeHulstC(omega):\n",
        "  '''\n",
        "  Coeficiente C de van de Hulst en función del ángulo omega.\n",
        "\n",
        "  Parámetros\n",
        "  -----------\n",
        "  omega: ángulo T-Q-S en radianes (rad).\n",
        "\n",
        "  Devuelve\n",
        "  ---------\n",
        "  Valor del coeficiente C de van de Hulst.\n",
        "  '''\n",
        "\n",
        "  return 4 / 3 - cos(omega) - pow(cos(omega), 3) / 3"
      ],
      "execution_count": 10,
      "outputs": []
    },
    {
      "cell_type": "markdown",
      "metadata": {
        "id": "_CsTGgIqCn08"
      },
      "source": [
        "Coeficiente **D** de van de Hulst:"
      ]
    },
    {
      "cell_type": "code",
      "metadata": {
        "id": "QyUvybR1CoIN"
      },
      "source": [
        "def vanDeHulstD(omega):\n",
        "  '''\n",
        "  Coeficiente D de van de Hulst en función del ángulo omega.\n",
        "\n",
        "  Parámetros\n",
        "  -----------\n",
        "  omega: ángulo T-Q-S en radianes (rad).\n",
        "\n",
        "  Devuelve\n",
        "  ---------\n",
        "  Valor del coeficiente D de van de Hulst.\n",
        "  '''\n",
        "\n",
        "  return 1 / 8 * (5 + pow(sin(omega), 2) - (pow(cos(omega), 2) / sin(omega)) * \n",
        "                  (5 - pow(sin(omega), 2)) * log((1 + sin(omega)) / cos(omega)))"
      ],
      "execution_count": 11,
      "outputs": []
    },
    {
      "cell_type": "code",
      "metadata": {
        "id": "aU3ApRbOy-Pw"
      },
      "source": [
        "def vanDeHulst(omega, coeficiente):\n",
        "  '''\n",
        "  Dado un valor para el ángulo omega, y el nombre de uno de los coeficientes\n",
        "  de van de Hulst, devuelve su valor. Acepta el nombre tanto en minúsculas como\n",
        "  en mayúsculas.\n",
        "\n",
        "  Parámetros\n",
        "  -----------\n",
        "  omega: ángulo S-Q-T en radianes (rad).\n",
        "  coeficiente: nombre del coeficiente de van de Hulst pedido.\n",
        "\n",
        "  Devuelve\n",
        "  ---------\n",
        "  Valor del coeficiente de van de Hulst pasado como atributo.\n",
        "  '''\n",
        "\n",
        "  coeficiente = coeficiente.upper()\n",
        "\n",
        "  # Coeficientes de van de Hulst en función del ángulo omega (T-Q-S).\n",
        "  valorCoeficiente = -1\n",
        "  if coeficiente == 'A':\n",
        "    # Coeficiente A.\n",
        "    valorCoeficiente = vanDeHulstA(omega)\n",
        "  elif coeficiente == 'B':\n",
        "    # Coeficiente B.\n",
        "    valorCoeficiente = vanDeHulstB(omega)\n",
        "  elif coeficiente == 'C':\n",
        "    # Coeficiente C.\n",
        "    valorCoeficiente = vanDeHulstC(omega)\n",
        "  elif coeficiente == 'D':\n",
        "    # Coeficiente D.\n",
        "    valorCoeficiente = vanDeHulstD(omega)\n",
        "  else:\n",
        "    # Notifica al usuario de que ha introducido un nombre no válido para los\n",
        "    # coeficientes de van de Hulst.\n",
        "    print(\"[vanDeHulstDistanciaSol_ERR]::Coeficiente no válido.\")\n",
        "  return valorCoeficiente"
      ],
      "execution_count": 12,
      "outputs": []
    },
    {
      "cell_type": "markdown",
      "metadata": {
        "id": "79FXiCbA0fNj"
      },
      "source": [
        "### 2.2. Obtención de las **intensidades**"
      ]
    },
    {
      "cell_type": "markdown",
      "metadata": {
        "id": "2ce88Z2Z00YN"
      },
      "source": [
        "Intensidad **polarizada** (**Ip**)"
      ]
    },
    {
      "cell_type": "code",
      "metadata": {
        "id": "3D4I-R6Z0hp_"
      },
      "source": [
        "def Ip(i0, sigma_e, z, omega, chi, u):\n",
        "  '''\n",
        "  Dada una intensidad inicial, I0, la sección eficaz del electrón, sigma_e, la \n",
        "  distancia, z, del observador, O, al punto de dispersión, Q, el ángulo omega \n",
        "  (T-Q-S), el ángulo chi (S-Q-O) y el coeficiente de limb-darkening, u, devuelve\n",
        "  la intensidad polarizada.\n",
        "\n",
        "  Parámetros\n",
        "  -----------\n",
        "  i0: intensidad inicial en [ver unidades].\n",
        "  sigma_e: sección eficaz del electrón (m²sr-¹).\n",
        "  z: distancia del observador, O, al punto de dispersión Q.\n",
        "  omega: ángulo T-Q-S en radianes (rad).\n",
        "  chi: ángulo de dispersión (S-Q-O) en radianes (rad).\n",
        "  u: coeficiente de limb-darkening en [0, 1].\n",
        "\n",
        "  Devuelve\n",
        "  ---------\n",
        "  Valor de la intensidad polarizada.\n",
        "  '''\n",
        "  return i0 * (pi * sigma_e) / (2 * pow(z, 2)) * pow(sin(chi), 2) * ((1 - u) \n",
        "  * vanDeHulst(omega, 'A') + u * vanDeHulst(omega, 'B'))"
      ],
      "execution_count": 13,
      "outputs": []
    },
    {
      "cell_type": "markdown",
      "metadata": {
        "id": "uZcq7Nu41NVp"
      },
      "source": [
        "Intensidad **tangencial** (**It**)"
      ]
    },
    {
      "cell_type": "code",
      "metadata": {
        "id": "8udX6L7i1RBf"
      },
      "source": [
        "def It(i0, sigma_e, z, omega, u):\n",
        "  '''\n",
        "  Dada una intensidad inicial, I0, la sección eficaz del electrón, sigma_e, la \n",
        "  distancia, z, del observador, O, al punto de dispersión, Q, el ángulo \n",
        "  omega (T-Q-S) y el coeficiente de limb-darkening, u, devuelve la intensidad \n",
        "  tangencial.\n",
        "\n",
        "  Parámetros\n",
        "  -----------\n",
        "  i0: intensidad inicial en [ver unidades].\n",
        "  sigma_e: sección eficaz del electrón (m²sr-¹).\n",
        "  z: distancia del observador, O, al punto de dispersión Q.\n",
        "  omega: ángulo T-Q-S en radianes (rad).\n",
        "  u: coeficiente de limb-darkening en [0, 1].\n",
        "\n",
        "  Devuelve\n",
        "  ---------\n",
        "  Valor de la intensidad tangencial.\n",
        "  '''\n",
        "\n",
        "  return i0 * (pi * sigma_e) / (2 * pow(z, 2)) * ((1 - u) \n",
        "  * vanDeHulst(omega, 'C') + u * vanDeHulst(omega, 'D'))"
      ],
      "execution_count": 14,
      "outputs": []
    },
    {
      "cell_type": "markdown",
      "metadata": {
        "id": "V2wuKdwP1SIi"
      },
      "source": [
        "Intensidad **radial** (**Ir**)"
      ]
    },
    {
      "cell_type": "code",
      "metadata": {
        "id": "qZItpPSk5xoo"
      },
      "source": [
        "def Ir(i0, sigma_e, z, omega, chi, u):\n",
        "  '''\n",
        "  Dada una intensidad inicial, i0, la sección eficaz del electrón, sigma_e, la \n",
        "  distancia, z, del observador, O, al punto de dispersión, Q, el ángulo omega \n",
        "  (T-Q-S), el ángulo chi (S-Q-O) y el coeficiente de limb-darkening, u, devuelve\n",
        "  la intensidad radial.\n",
        "\n",
        "  Parámetros\n",
        "  -----------\n",
        "  i0: intensidad inicial en [ver unidades].\n",
        "  sigma_e: sección eficaz del electrón (m²sr-¹).\n",
        "  z: distancia del observador, O, al punto de dispersión Q.\n",
        "  omega: ángulo T-Q-S en radianes (rad).\n",
        "  chi: ángulo de dispersión (S-Q-O) en radianes (rad).\n",
        "  u: coeficiente de limb-darkening en [0, 1].\n",
        "\n",
        "  Devuelve\n",
        "  ---------\n",
        "  Valor de la intensidad radial.\n",
        "  '''\n",
        "  return It(i0, sigma_e, z, omega, u) - Ip(i0, sigma_e, z, omega, chi, u)"
      ],
      "execution_count": 15,
      "outputs": []
    },
    {
      "cell_type": "markdown",
      "metadata": {
        "id": "y6yRsya3z_k6"
      },
      "source": [
        "Intensidad **total** (**Itotal**)"
      ]
    },
    {
      "cell_type": "code",
      "metadata": {
        "id": "mqJzHJqGO-L3"
      },
      "source": [
        "def Itotal(i0, sigma_e, z, omega, chi, u):\n",
        "  '''\n",
        "  Dada una intensidad inicial, i0, la sección eficaz del electrón, sigma_e, la \n",
        "  distancia, z, del observador, O, al punto de dispersión, Q, el ángulo omega \n",
        "  (T-Q-S), el ángulo chi (S-Q-O) y el coeficiente de limb-darkening, u, devuelve\n",
        "  la intensidad radial.\n",
        "\n",
        "  En base a las intensidades tangencial y polarizada calcula la intensidad total\n",
        "  dispersada.\n",
        "\n",
        "  Parámetros\n",
        "  -----------\n",
        "  i0: intensidad inicial en [ver unidades].\n",
        "  sigma_e: sección eficaz del electrón (m²sr-¹).\n",
        "  z: distancia del observador, O, al punto de dispersión Q.\n",
        "  omega: ángulo T-Q-S en radianes (rad).\n",
        "  chi: ángulo de dispersión (S-Q-O) en radianes (rad).\n",
        "  u: coeficiente de limb-darkening en [0, 1].\n",
        "\n",
        "  Devuelve\n",
        "  ---------\n",
        "  Valor de la intensidad total.\n",
        "\n",
        "  Véase\n",
        "  ---------\n",
        "  It: función de la intensidad tangencial.\n",
        "  Ip: función de la intensidad polarizada.\n",
        "'''\n",
        "  return 2 * It(i0, sigma_e, z, omega, u) - Ip(i0, sigma_e, z, omega, chi, u)"
      ],
      "execution_count": 16,
      "outputs": []
    },
    {
      "cell_type": "markdown",
      "metadata": {
        "id": "E08-4rut1jBq"
      },
      "source": [
        "## **3. Dispersión de Thomson a través de la línea de visión del observador**"
      ]
    },
    {
      "cell_type": "markdown",
      "metadata": {
        "id": "UUNxOA4Y_RYR"
      },
      "source": [
        "###3.1. Estudio de la evolución de los parámetros necesarios para el cálculo de la dispersión de Thomson"
      ]
    },
    {
      "cell_type": "markdown",
      "metadata": {
        "id": "nJUVkSDQ_g-n"
      },
      "source": [
        "Se definen cuatro listas:\n",
        "\n",
        "\n",
        "1. ```epsilons```: contiene las distintas elongaciones para las cuales se va a observar la evolución de los parámetros en estudio (d, z, phi, etc.).\n",
        "2. ```estilos```: contiene los diferentes formatos para las líneas de los gráficos para cada una de las elongaciones.\n",
        "3. ```colores```: contiene los diferentes colores para las líneas de los gráficos para cada una de las elongaciones.\n",
        "4. ```etiquetas```: contiene las diferentes etiquetas de las leyendas de los gráficos para cada una de las elongaciones.\n",
        "\n",
        "La primera hace referencia a los experimentos a realizar sobre los parámetros necesarios para el cálculo de la dispersión de Thomson y la segunda, al formato de los gráficos en os que se representa esa experimentación.\n",
        "\n"
      ]
    },
    {
      "cell_type": "code",
      "metadata": {
        "id": "8fUL6TuQCxfI"
      },
      "source": [
        "# Valores en radianes para las distintas elongaciones a experimentar.\n",
        "epsilons = [  radians(5),     radians(20),      radians(30),        radians(45),        radians(60),        radians(90),      radians(135)] \n",
        "\n",
        "# Configuración para la visualización de los gráficos: estilos y colores de \n",
        "# líneas y etiquetas para la leyenda.\n",
        "estilos = [       ':',              '-',              '--',              '-.',          (0, (1, 1)), (0, (3, 1, 1, 1, 1, 1)), (0, (5, 10))]\n",
        "colores = [       'm',              'b',              'g',               'r',            'orange',         'brown',            'y']\n",
        "etiquetas = ['Elongación 5º', \"Elongación 20º\", \"Elongación 30º\", \"Elongación 45º\", \"Elongación 60º\", \"Elongación 90º\", \"Elongación 135º\"]"
      ],
      "execution_count": 17,
      "outputs": []
    },
    {
      "cell_type": "markdown",
      "metadata": {
        "id": "VVU11sq4C01x"
      },
      "source": [
        "### **3.2. Integración numérica**"
      ]
    },
    {
      "cell_type": "markdown",
      "metadata": {
        "id": "crkZ5dWN8Xpl"
      },
      "source": [
        "####Funciones **necesarias para la integración** en la línea de visión"
      ]
    },
    {
      "cell_type": "markdown",
      "metadata": {
        "id": "ehVw8IWDinNi"
      },
      "source": [
        "#####**Expresiones de la dispersión**\n",
        "Simplificadas para la integración numérica."
      ]
    },
    {
      "cell_type": "code",
      "metadata": {
        "id": "v-Jjq3dF-XYk"
      },
      "source": [
        "def Gt(omega, u, z = 1):\n",
        "  '''\n",
        "  Expresión de la dispersión de Thomson para la intensidad tangencial.\n",
        "\n",
        "  Parámetros\n",
        "  -----------\n",
        "  omega: ángulo T-Q-S\n",
        "  z: distancia del observador (O) al punto de dispersión (Q). Asigna z = 1 por\n",
        "  defecto para la simplificación de cálculos en la integración numérica de la \n",
        "  dispersión a lo largo de la línea de visión.\n",
        "\n",
        "  Devuelve\n",
        "  -----------\n",
        "  Valor de la dispersión tangencial.\n",
        "  '''\n",
        "\n",
        "  return (pi * SIGMAe) / (2 * z**2) * ((1 - u) * vanDeHulst(omega, 'C') + u * vanDeHulst(omega, 'D'))"
      ],
      "execution_count": 18,
      "outputs": []
    },
    {
      "cell_type": "code",
      "metadata": {
        "id": "XHVlyC0I-qZG"
      },
      "source": [
        "def Gp(omega, u, z = 1):\n",
        "  '''\n",
        "  Expresión de la dispersión de Thomson para la intensidad polarizada.\n",
        "\n",
        "  Parámetros\n",
        "  -----------\n",
        "  omega: ángulo T-Q-S\n",
        "  z: distancia del observador (O) al punto de dispersión (Q). Asigna z = 1 por\n",
        "  defecto para la simplificación de cálculos en la integración numérica de la \n",
        "  dispersión a lo largo de la línea de visión.\n",
        "\n",
        "  Devuelve\n",
        "  -----------\n",
        "  Valor de la dispersión polarizada.\n",
        "  '''\n",
        "\n",
        "  return (pi * SIGMAe) / (2 * z**2) * ((1 - u) * vanDeHulst(omega, 'A') + u * vanDeHulst(omega, 'B'))"
      ],
      "execution_count": 19,
      "outputs": []
    },
    {
      "cell_type": "code",
      "metadata": {
        "id": "CPtWJdZNO0Ir"
      },
      "source": [
        "def Gr(omega, u, z = 1):\n",
        "  '''\n",
        "  Expresión de la dispersión de Thomson para la intensidad radial.\n",
        "\n",
        "  Parámetros\n",
        "  -----------\n",
        "  omega: ángulo T-Q-S\n",
        "  z: distancia del observador (O) al punto de dispersión (Q). Asigna z = 1 por\n",
        "  defecto para la simplificación de cálculos en la integración numérica de la \n",
        "  dispersión a lo largo de la línea de visión.\n",
        "\n",
        "  Devuelve\n",
        "  -----------\n",
        "  Valor de la dispersión radial.\n",
        "  '''\n",
        "\n",
        "  return Gt(omega, u, z) - Gp(omega, u, z)"
      ],
      "execution_count": 20,
      "outputs": []
    },
    {
      "cell_type": "code",
      "metadata": {
        "id": "-ZN0SGYRPD2k"
      },
      "source": [
        "def Gtotal(omega, u, z = 1):\n",
        "  '''\n",
        "  Expresión de la dispersión de Thomson para la intensidad total.\n",
        "\n",
        "  Parámetros\n",
        "  -----------\n",
        "  omega: ángulo T-Q-S\n",
        "  z: distancia del observador (O) al punto de dispersión (Q). Asigna z = 1 por\n",
        "  defecto para la simplificación de cálculos en la integración numérica de la \n",
        "  dispersión a lo largo de la línea de visión.\n",
        "\n",
        "  Devuelve\n",
        "  -----------\n",
        "  Valor de la dispersión total.\n",
        "  '''\n",
        "\n",
        "  return 2 * Gt(omega, u, z) - Gp(omega, u, z)"
      ],
      "execution_count": 21,
      "outputs": []
    },
    {
      "cell_type": "markdown",
      "metadata": {
        "id": "2rxJdmhqius6"
      },
      "source": [
        "#####Modelo de la densidad electrónica"
      ]
    },
    {
      "cell_type": "code",
      "metadata": {
        "id": "23r5B6RmUqZm"
      },
      "source": [
        "def Ne(d):\n",
        "  '''\n",
        "  Modelo para la expresión electrónica de Crammer et al. (1999) usando el \n",
        "  UVCS/WLC del satélite SOHO.\n",
        "\n",
        "  Inicialmente, en unidades de cm⁻³, se aplica una conversión para obtener\n",
        "  resultados en m⁻³\n",
        "\n",
        "  Parámetros\n",
        "  -----------\n",
        "  d: distancia del centro de la estrella (S) al punto de dispersión (Q). Es\n",
        "  necesario introducirla en RSol (en general, radios estelares).\n",
        "\n",
        "  Devuelve\n",
        "  -----------\n",
        "  Valor de la densidad electrónica (m⁻³)\n",
        "  '''\n",
        "  # en cm⁻³ --> m⁻³\n",
        "  return 1E8 * (3.89 * d**-10.5 + 0.00869 * d**-2.57) * 1E6"
      ],
      "execution_count": 22,
      "outputs": []
    },
    {
      "cell_type": "markdown",
      "metadata": {
        "id": "5eAOWItEi2cN"
      },
      "source": [
        "#####**Funciones de integración numérica**\n",
        "Respecto de z, en Rsol, y respecto del ángulo phi (O-S-Q)."
      ]
    },
    {
      "cell_type": "code",
      "metadata": {
        "id": "qAeaCISCQLOi"
      },
      "source": [
        "def f_Irec_z(x, epsilon, z, u, r = RSOL):\n",
        "  '''\n",
        "  Función de la intensidad recibida por la dispersión de Thomson en un punto \n",
        "  z_i de la línea de visión.\n",
        "\n",
        "  Parámetros\n",
        "  ------------\n",
        "  x: distancia del observador (O) al centro de la estrella (S).\n",
        "  epsilon: ángulo de la elongación, S-Q-O, en radianes (rad).\n",
        "  z: distancia del observador (O) al punto de dispersión (Q).\n",
        "  r: radio de la estrella. Asigna r = RSOL por defecto, para trabajar en \n",
        "  unidades SI. Si r = 1, se entiende que se trabaja en el radio de la estrella.\n",
        "\n",
        "  Devuelve\n",
        "  ------------\n",
        "  El valor de la dispersión de Thomson recibida para un z_i dado.\n",
        "  '''\n",
        "\n",
        "  return Ne(faux_d(x, z, epsilon) / r) * Gtotal(faux_omega(x, z, epsilon, r), u)\n",
        "\n",
        "def Irec_z(x, epsilon, ini_z, fin_z, incr_z, u, r = RSOL):\n",
        "  '''\n",
        "  Integración numérica de la dispersión de Thomson recibida a lo largo de toda\n",
        "  la línea de visión (integración sobre la variable z).\n",
        "\n",
        "  Parámetros\n",
        "  ------------\n",
        "  x: distancia del observador (O) al centro de la estrella (S).\n",
        "  epsilon: ángulo de la elongación, S-Q-O, en radianes (rad).\n",
        "  z: distancia del observador (O) al punto de dispersión (Q). Límite superior de\n",
        "  la integración.\n",
        "  incr_z: incremento de z para el cálculo de la integral numérica.\n",
        "  r: radio de la estrella. Asigna r = RSOL por defecto, para trabajar en \n",
        "  unidades SI. Si r = 1, se entiende que se trabaja en el radio de la estrella.\n",
        "\n",
        "  Devuelve\n",
        "  ------------\n",
        "  El valor de la dispersión de Thomson recibida para un z_i dado.\n",
        "  '''\n",
        "\n",
        "  pasos_z = np.arange(ini_z, fin_z + incr_z, incr_z)\n",
        "  valorIrec = 0\n",
        "  for i in pasos_z:\n",
        "    valorIrec += abs(f_Irec_z(x, epsilon, i + 1, u, r) - f_Irec_z(x, epsilon, i, u, r)) * incr_z\n",
        "  return valorIrec\n",
        "\n",
        "def f_Irec_PHI(x, epsilon, phi, u, r = RSOL):\n",
        "  '''\n",
        "  Función de la intensidad recibida por la dispersión de Thomson para un ángulo\n",
        "  dado phi_i.\n",
        "\n",
        "  Parámetros\n",
        "  ------------\n",
        "  x: distancia del observador (O) al centro de la estrella (S).\n",
        "  epsilon: ángulo de la elongación, S-Q-O, en radianes (rad).\n",
        "  phi: ángulo O-S-Q, en radianes (rad).\n",
        "  r: radio de la estrella. Asigna r = RSOL por defecto, para trabajar en \n",
        "  unidades SI. Si r = 1, se entiende que se trabaja en el radio de la estrella.\n",
        "\n",
        "  Devuelve\n",
        "  ------------\n",
        "  El valor de la dispersión de Thomson recibida para un ángulo phi_i dado.\n",
        "  '''\n",
        "  valor_contribucion_fIrec = 0\n",
        "  return valor_contribucion_fIrec \n",
        "\n",
        "def Irec_PHI(x, epsilon, phi, incr_phi, u, r = RSOL):\n",
        "  '''\n",
        "  Integración numérica de la dispersión de Thomson recibida a lo largo de toda\n",
        "  la línea de visión (integración sobre la variable phi).\n",
        "\n",
        "  Parámetros\n",
        "  ------------\n",
        "  x: distancia del observador (O) al centro de la estrella (S).\n",
        "  epsilon: ángulo de la elongación, S-Q-O, en radianes (rad).\n",
        "  phi: ángulo O-S-Q, en radianes (rad). Límite superior de la integración.\n",
        "  phi_z: incremento de phi para el cálculo de la integral numérica.\n",
        "  r: radio de la estrella. Asigna r = RSOL por defecto, para trabajar en \n",
        "  unidades SI. Si r = 1, se entiende que se trabaja en el radio de la estrella.\n",
        "\n",
        "  Devuelve\n",
        "  ------------\n",
        "  El valor de la dispersión de Thomson recibida para un z_i dado.\n",
        "  '''\n",
        "\n",
        "  # Integración numérica de la función intensidad recibida a lo largo de la línea\n",
        "  # de visión, mediante incrementos de z.\n",
        "  pasos_phi = np.arange(0, phi + incr_phi, incr_phi)\n",
        "  valorIrec = 0\n",
        "  for i in pasos_phi:\n",
        "      valorIrec += abs(f_Irec_PHI(x, epsilon, i + 1, u, r) - f_Irec_PHI(x, epsilon, i, u, r)) * incr_phi\n",
        "  return valorIrec"
      ],
      "execution_count": 23,
      "outputs": []
    }
  ]
}